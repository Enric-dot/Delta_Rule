{
  "nbformat": 4,
  "nbformat_minor": 0,
  "metadata": {
    "colab": {
      "provenance": []
    },
    "kernelspec": {
      "name": "python3",
      "display_name": "Python 3"
    },
    "language_info": {
      "name": "python"
    }
  },
  "cells": [
    {
      "cell_type": "markdown",
      "source": [
        "En este colab se va a extraer un a funcion de optimizacion para la variable **w** de la siguiente equacion:\n",
        "\n",
        "**e = Re - (w*x)**\n",
        "\n",
        "\n",
        "\n",
        "\n"
      ],
      "metadata": {
        "id": "0WXeNL-Rus4y"
      }
    },
    {
      "cell_type": "markdown",
      "source": [
        "Analisis de funcion:\n",
        "\n",
        "        **e = Re - (w*x)**\n",
        "        Leyenda:\n",
        "            *e -> error\n",
        "            *Re ->resultado esperado\n",
        "            *w -> peso\n",
        "            *x -> input\n",
        "\n",
        "\n",
        "Tabla de verdad de la funcion se hara una tabla en la que consideremos que todo son constantes excepto w y veremos como evoluciona la funcion teniendo en cuenta que queremos que el error se aproxime a 0:\n",
        "\n",
        "    e      x      (w+1)\n",
        "    -      -      queremos que aumente paraque e se aproxime a 0\n",
        "    -      +      queremos que disminya para aproximar e a 0\n",
        "    +      -      queremos que disminya para aproximar e a 0\n",
        "    +      +      queremos que aumente paraque e se aproxime a 0\n",
        "\n",
        "** Date cuenta de que Re no importa si es positivo o negativo aunque cambies el signo de Re sin cambier el signo de x y de e la evolucion que necesitamos de w es la misma\n",
        "\n",
        "Ej\n",
        "\n",
        "En este ejemplo si aumentamos w el error cada vez sera mas negativo y nos alejaremos del 0\n",
        "\n",
        "Si disminuimos w cada vez sera menos negativo y el error se ira hacercando al 0\n",
        "\n",
        "-0.4 = 1-(1*w)\n",
        "\n",
        "Si cambiamos el error es positivo queremos que w en vez de disminuir aumente\n",
        "\n",
        "\n",
        "\n",
        "\n"
      ],
      "metadata": {
        "id": "JBDT7OWDtqZD"
      }
    },
    {
      "cell_type": "markdown",
      "source": [
        "Una vez hecho el analisis queremos diseñar una funcion que cumpla nuestra tabla de verdad:\n",
        "\n",
        "\n",
        "    e      x      Resultado que queremos\n",
        "    -      -      +\n",
        "    -      +      -\n",
        "    +      -      -\n",
        "    +      +      +\n",
        "\n",
        "El resultado de la equacion se debera añadir a w para su siguiente iteración\n",
        "\n",
        "w = w + (e * x)"
      ],
      "metadata": {
        "id": "3to7jr2wzgmJ"
      }
    },
    {
      "cell_type": "code",
      "source": [
        "import random"
      ],
      "metadata": {
        "id": "dM20EC3i6ZtX"
      },
      "execution_count": null,
      "outputs": []
    },
    {
      "cell_type": "code",
      "execution_count": null,
      "metadata": {
        "id": "q6YaxzHmtmpR"
      },
      "outputs": [],
      "source": [
        "def delta_rule(e : float, x : float, w : float, lr : float = 0.002 ):\n",
        "  '''\n",
        "  Regla optimización que actualiza w\n",
        "  Params\n",
        "      e-> error de la iteracion previa\n",
        "      x -> input\n",
        "      w-> peso de la iteracion pervia\n",
        "      lr-> learning rate\n",
        "  resultado\n",
        "      wt-> la nueva version de w\n",
        "\n",
        "  '''\n",
        "\n",
        "  return w+lr*e*x"
      ]
    },
    {
      "cell_type": "code",
      "source": [
        "def loss(Re: float, x: float, w:float):\n",
        "  '''\n",
        "  Funcion de calculo de perdida\n",
        "  Params\n",
        "      Re-> resultado esperado\n",
        "      x -> input\n",
        "      w-> peso de la iteracion pervia\n",
        "  resultado\n",
        "      e-> error de la iteracion previa\n",
        "\n",
        "  '''\n",
        "  return Re-(x*w)"
      ],
      "metadata": {
        "id": "q3ZBhlot2hQq"
      },
      "execution_count": null,
      "outputs": []
    },
    {
      "cell_type": "code",
      "source": [
        "def optimization(epochs : int , x: float, Re: float):\n",
        "  '''\n",
        "  Funcion que aplica la regla de optimizacion y aproxima el error a 0\n",
        "  Params\n",
        "      epochs-> la cantidad de iteraciones que quiero aplicar al algoritmo\n",
        "      x -> input\n",
        "      Re-> resultado esperado\n",
        "\n",
        "  '''\n",
        "  w = random.uniform(0, 1)\n",
        "  print('Initialization weight: ',w )\n",
        "  for i in range(epochs):\n",
        "    e = loss(Re,x,w)\n",
        "    w = delta_rule(e,x,w)\n",
        "    print('Error: ',e, ' Weight: ',w )\n"
      ],
      "metadata": {
        "id": "5c707IAU4ILJ"
      },
      "execution_count": null,
      "outputs": []
    },
    {
      "cell_type": "code",
      "source": [
        "optimization(epochs = 40,x = 2,Re = 2)"
      ],
      "metadata": {
        "colab": {
          "base_uri": "https://localhost:8080/"
        },
        "id": "3HjoTU3C63rq",
        "outputId": "9549dae7-49ce-474e-ef35-9d1b16650c84"
      },
      "execution_count": null,
      "outputs": [
        {
          "output_type": "stream",
          "name": "stdout",
          "text": [
            "Initialization weight:  0.768948195754644\n",
            "Error:  0.46210360849071197  Weight:  0.7707966101886069\n",
            "Error:  0.4584067796227862  Weight:  0.772630237307098\n",
            "Error:  0.454739525385804  Weight:  0.7744491954086412\n",
            "Error:  0.4511016091827176  Weight:  0.7762536018453721\n",
            "Error:  0.44749279630925587  Weight:  0.7780435730306091\n",
            "Error:  0.44391285393878177  Weight:  0.7798192244463642\n",
            "Error:  0.4403615511072716  Weight:  0.7815806706507933\n",
            "Error:  0.43683865869841343  Weight:  0.783328025285587\n",
            "Error:  0.43334394942882604  Weight:  0.7850614010833022\n",
            "Error:  0.4298771978333955  Weight:  0.7867809098746358\n",
            "Error:  0.42643818025072844  Weight:  0.7884866625956387\n",
            "Error:  0.4230266748087226  Weight:  0.7901787692948736\n",
            "Error:  0.41964246141025274  Weight:  0.7918573391405146\n",
            "Error:  0.4162853217189708  Weight:  0.7935224804273905\n",
            "Error:  0.412955039145219  Weight:  0.7951743005839713\n",
            "Error:  0.40965139883205737  Weight:  0.7968129061792996\n",
            "Error:  0.4063741876414009  Weight:  0.7984384029298651\n",
            "Error:  0.40312319414026976  Weight:  0.8000508957064262\n",
            "Error:  0.39989820858714764  Weight:  0.8016504885407748\n",
            "Error:  0.3966990229184504  Weight:  0.8032372846324486\n",
            "Error:  0.3935254307351028  Weight:  0.804811386355389\n",
            "Error:  0.3903772272892221  Weight:  0.8063728952645458\n",
            "Error:  0.3872542094709084  Weight:  0.8079219121024295\n",
            "Error:  0.38415617579514105  Weight:  0.8094585368056101\n",
            "Error:  0.38108292638877983  Weight:  0.8109828685111652\n",
            "Error:  0.3780342629776696  Weight:  0.8124950055630759\n",
            "Error:  0.3750099888738483  Weight:  0.8139950455185713\n",
            "Error:  0.37200990896285746  Weight:  0.8154830851544227\n",
            "Error:  0.3690338296911546  Weight:  0.8169592204731874\n",
            "Error:  0.36608155905362527  Weight:  0.8184235467094019\n",
            "Error:  0.36315290658119626  Weight:  0.8198761583357267\n",
            "Error:  0.3602476833285466  Weight:  0.8213171490690409\n",
            "Error:  0.3573657018619183  Weight:  0.8227466118764886\n",
            "Error:  0.35450677624702287  Weight:  0.8241646389814766\n",
            "Error:  0.35167072203704675  Weight:  0.8255713218696248\n",
            "Error:  0.34885735626075043  Weight:  0.8269667512946678\n",
            "Error:  0.3460664974106644  Weight:  0.8283510172843105\n",
            "Error:  0.343297965431379  Weight:  0.829724209146036\n",
            "Error:  0.3405515817079281  Weight:  0.8310864154728677\n",
            "Error:  0.3378271690542647  Weight:  0.8324377241490847\n"
          ]
        }
      ]
    },
    {
      "cell_type": "code",
      "source": [
        "def delta_rule_multiple(e : float, x : list, w : float, lr : float = 0.002 ):\n",
        "  '''\n",
        "  Regla optimización que actualiza w\n",
        "  Params\n",
        "      e-> error de la iteracion previa\n",
        "      x -> input\n",
        "      w-> peso de la iteracion pervia\n",
        "      lr-> learning rate\n",
        "  resultado\n",
        "      wt-> la nueva version de w\n",
        "\n",
        "  '''\n",
        "  for i in x:\n",
        "    w = w+lr*e*i\n",
        "  return w"
      ],
      "metadata": {
        "id": "Xn9ylGnAIeir"
      },
      "execution_count": null,
      "outputs": []
    },
    {
      "cell_type": "code",
      "source": [
        "def loss_multiple(Re: list, x: list, w:float):\n",
        "  '''\n",
        "  Funcion de calculo de perdida\n",
        "  Params\n",
        "      Re-> resultado esperado\n",
        "      x -> input\n",
        "      w-> peso de la iteracion pervia\n",
        "  resultado\n",
        "      e-> error de la iteracion previa\n",
        "\n",
        "  '''\n",
        "\n",
        "  return sum([e1-e2*w for e1,e2 in zip(Re,x)])/len(x)"
      ],
      "metadata": {
        "id": "diI1JSieIfeT"
      },
      "execution_count": null,
      "outputs": []
    },
    {
      "cell_type": "markdown",
      "source": [
        "Modelo para multiples"
      ],
      "metadata": {
        "id": "gXvfd3SnK_Hh"
      }
    },
    {
      "cell_type": "code",
      "source": [
        "def optimization_mltiple(epochs : int , x: list, Re: list):\n",
        "  '''\n",
        "  Funcion que aplica la regla de optimizacion y aproxima el error a 0\n",
        "  Params\n",
        "      epochs-> la cantidad de iteraciones que quiero aplicar al algoritmo\n",
        "      x -> input\n",
        "      Re-> resultado esperado\n",
        "\n",
        "  '''\n",
        "  w = random.uniform(0, 1)\n",
        "  print('Initialization weight: ',w )\n",
        "  for i in range(epochs):\n",
        "    e = loss_multiple(Re,x,w)\n",
        "    w = delta_rule_multiple(e,x,w)\n",
        "    print('Error: ',e, ' Weight: ',w )"
      ],
      "metadata": {
        "id": "xupwgrrJHA6N"
      },
      "execution_count": null,
      "outputs": []
    },
    {
      "cell_type": "code",
      "source": [
        "inputs = [1,2,3,4,5]\n",
        "outputs = [-2,-4,-6,-8,-10]\n",
        "#x*w Modelo\n",
        "optimization_mltiple(epochs = 100,x = inputs,Re = outputs)"
      ],
      "metadata": {
        "colab": {
          "base_uri": "https://localhost:8080/"
        },
        "id": "berBFY0XDdS4",
        "outputId": "bd09f80c-57d4-4ce4-d355-b6a7dfb3581e"
      },
      "execution_count": null,
      "outputs": [
        {
          "output_type": "stream",
          "name": "stdout",
          "text": [
            "Initialization weight:  0.01670676135376692\n",
            "Error:  -6.0501202840613  Weight:  -0.16479684716807208\n",
            "Error:  -5.505609458495784  Weight:  -0.32996513092294566\n",
            "Error:  -5.010104607231163  Weight:  -0.4802682691398806\n",
            "Error:  -4.559195192580358  Weight:  -0.6170441249172913\n",
            "Error:  -4.148867625248125  Weight:  -0.7415101536747352\n",
            "Error:  -3.775469538975795  Weight:  -0.854774239844009\n",
            "Error:  -3.4356772804679734  Weight:  -0.9578445582580483\n",
            "Error:  -3.126466325225855  Weight:  -1.051638548014824\n",
            "Error:  -2.8450843559555277  Weight:  -1.13699107869349\n",
            "Error:  -2.58902676391953  Weight:  -1.2146618816110757\n",
            "Error:  -2.356014355166773  Weight:  -1.2853423122660788\n",
            "Error:  -2.1439730632017637  Weight:  -1.3496615041621316\n",
            "Error:  -1.9510154875136052  Weight:  -1.4081919687875397\n",
            "Error:  -1.7754240936373809  Weight:  -1.461454691596661\n",
            "Error:  -1.6156359252100168  Weight:  -1.5099237693529615\n",
            "Error:  -1.4702286919411156  Weight:  -1.554030630111195\n",
            "Error:  -1.337908109666415  Weight:  -1.5941678734011875\n",
            "Error:  -1.2174963797964375  Weight:  -1.6306927647950806\n",
            "Error:  -1.107921705614758  Weight:  -1.6639304159635233\n",
            "Error:  -1.00820875210943  Weight:  -1.6941766785268062\n",
            "Error:  -0.9174699644195814  Weight:  -1.7217007774593935\n",
            "Error:  -0.8348976676218193  Weight:  -1.746747707488048\n",
            "Error:  -0.7597568775358559  Weight:  -1.7695404138141237\n",
            "Error:  -0.6913787585576285  Weight:  -1.7902817765708525\n",
            "Error:  -0.6291546702874422  Weight:  -1.8091564166794758\n",
            "Error:  -0.5725307499615726  Weight:  -1.826332339178323\n",
            "Error:  -0.5210029824650309  Weight:  -1.841962428652274\n",
            "Error:  -0.47411271404317806  Weight:  -1.8561858100735695\n",
            "Error:  -0.4314425697792914  Weight:  -1.8691290871669484\n",
            "Error:  -0.3926127384991549  Weight:  -1.880907469321923\n",
            "Error:  -0.35727759203423104  Weight:  -1.89162579708295\n",
            "Error:  -0.32512260875115023  Weight:  -1.9013794753454845\n",
            "Error:  -0.29586157396354645  Weight:  -1.910255322564391\n",
            "Error:  -0.26923403230682696  Weight:  -1.918332343533596\n",
            "Error:  -0.245002969399212  Weight:  -1.9256824326155726\n",
            "Error:  -0.22295270215328222  Weight:  -1.9323710136801713\n",
            "Error:  -0.20288695895948633  Weight:  -1.938457622448956\n",
            "Error:  -0.1846271326531319  Weight:  -1.94399643642855\n",
            "Error:  -0.16801069071434993  Weight:  -1.9490367571499805\n",
            "Error:  -0.15288972855005872  Weight:  -1.9536234490064823\n",
            "Error:  -0.13912965298055285  Weight:  -1.9577973385958989\n",
            "Error:  -0.12660798421230351  Weight:  -1.961595578122268\n",
            "Error:  -0.1152132656331959  Weight:  -1.965051976091264\n",
            "Error:  -0.10484407172620806  Weight:  -1.9681972982430502\n",
            "Error:  -0.09540810527084931  Weight:  -1.9710595414011758\n",
            "Error:  -0.08682137579647282  Weight:  -1.97366418267507\n",
            "Error:  -0.07900745197479005  Weight:  -1.9760344062343138\n",
            "Error:  -0.07189678129705875  Weight:  -1.9781913096732255\n",
            "Error:  -0.06542607098032356  Weight:  -1.9801540918026352\n",
            "Error:  -0.05953772459209446  Weight:  -1.9819402235403982\n",
            "Error:  -0.0541793293788055  Weight:  -1.9835656034217624\n",
            "Error:  -0.04930318973471293  Weight:  -1.9850446991138038\n",
            "Error:  -0.044865902658588516  Weight:  -1.9863906761935615\n",
            "Error:  -0.04082797141931578  Weight:  -1.987615515336141\n",
            "Error:  -0.03715345399157699  Weight:  -1.9887301189558884\n",
            "Error:  -0.03380964313233492  Weight:  -1.9897444082498585\n",
            "Error:  -0.03076677525042455  Weight:  -1.9906674115073713\n",
            "Error:  -0.02799776547788624  Weight:  -1.9915073444717077\n",
            "Error:  -0.025477966584876777  Weight:  -1.992271683469254\n",
            "Error:  -0.023184949592238047  Weight:  -1.992967231957021\n",
            "Error:  -0.021098304128936585  Weight:  -1.993600181080889\n",
            "Error:  -0.019199456757333033  Weight:  -1.9941761647836087\n",
            "Error:  -0.017471505649173703  Weight:  -1.9947003099530838\n",
            "Error:  -0.015899070140748473  Weight:  -1.9951772820573062\n",
            "Error:  -0.014468153828081531  Weight:  -1.9956113266721487\n",
            "Error:  -0.013166019983553934  Weight:  -1.9960063072716554\n",
            "Error:  -0.0119810781850338  Weight:  -1.9963657396172063\n",
            "Error:  -0.010902781148381058  Weight:  -1.9966928230516579\n",
            "Error:  -0.00992153084502645  Weight:  -1.9969904689770086\n",
            "Error:  -0.009028593068974189  Weight:  -1.9972613267690777\n",
            "Error:  -0.008216019692766575  Weight:  -1.9975078073598607\n",
            "Error:  -0.007476577920418004  Weight:  -1.9977321046974732\n",
            "Error:  -0.006803685907580226  Weight:  -1.9979362152747004\n",
            "Error:  -0.006191354175898667  Weight:  -1.9981219558999774\n",
            "Error:  -0.005634132300067529  Weight:  -1.9982909798689794\n",
            "Error:  -0.005127060393061944  Weight:  -1.9984447916807713\n",
            "Error:  -0.0046656249576861875  Weight:  -1.998584760429502\n",
            "Error:  -0.004245718711493973  Weight:  -1.9987121319908467\n",
            "Error:  -0.003863604027459777  Weight:  -1.9988280401116707\n",
            "Error:  -0.0035158796649878976  Weight:  -1.9989335165016202\n",
            "Error:  -0.0031994504951395443  Weight:  -1.9990295000164744\n",
            "Error:  -0.0029114999505770013  Weight:  -1.9991168450149917\n",
            "Error:  -0.0026494649550250493  Weight:  -1.9991963289636423\n",
            "Error:  -0.0024110131090731013  Weight:  -1.9992686593569144\n",
            "Error:  -0.00219402192925684  Weight:  -1.9993344800147919\n",
            "Error:  -0.001996559955624244  Weight:  -1.9993943768134605\n",
            "Error:  -0.0018168695596183504  Weight:  -1.999448882900249\n",
            "Error:  -0.0016533512992527478  Weight:  -1.9994984834392264\n",
            "Error:  -0.0015045496823208992  Weight:  -1.999543619929696\n",
            "Error:  -0.0013691402109117234  Weight:  -1.9995846941360234\n",
            "Error:  -0.0012459175919299348  Weight:  -1.9996220716637816\n",
            "Error:  -0.0011337850086552415  Weight:  -1.9996560852140413\n",
            "Error:  -0.0010317443578762298  Weight:  -1.9996870375447775\n",
            "Error:  -0.0009388873656676732  Weight:  -1.9997152041657476\n",
            "Error:  -0.0008543875027573478  Weight:  -1.99974083579083\n",
            "Error:  -0.0007774926275101457  Weight:  -1.999764160569655\n",
            "Error:  -0.000707518291034992  Weight:  -1.999785386118386\n",
            "Error:  -0.000643841644841947  Weight:  -1.9998047013677314\n",
            "Error:  -0.0005858958968057327  Weight:  -1.9998222782446353\n",
            "Error:  -0.0005331652660938602  Weight:  -1.999838273202618\n"
          ]
        }
      ]
    },
    {
      "cell_type": "markdown",
      "source": [
        "CON CLASES"
      ],
      "metadata": {
        "id": "S0hWSUeyYtMP"
      }
    },
    {
      "cell_type": "code",
      "source": [
        "def loss(Y: list, X: list, forward_pass, fast : bool = False):\n",
        "  '''\n",
        "  Funcion de calculo de perdida\n",
        "  Params\n",
        "      Y-> resultado esperado\n",
        "      X -> input\n",
        "      forward_pass-> funcion de preiccion\n",
        "      fast-> cambia funcion de error\n",
        "  resultado\n",
        "      e-> error de la iteracion previa\n",
        "\n",
        "  '''\n",
        "  if fast:\n",
        "    s= sum([y-forward_pass(x)**3 for y,x in zip(Y,X)])\n",
        "  else:\n",
        "    #Esta funcion pemaliza mas los erroes altos\n",
        "    s= sum([y-forward_pass(x) for y,x in zip(Y,X)])\n",
        "  return s/len(X)"
      ],
      "metadata": {
        "id": "3xlq5EWFlGnu"
      },
      "execution_count": null,
      "outputs": []
    },
    {
      "cell_type": "code",
      "source": [
        "def delta_rule(e : float, X : list, w : float, lr : float = 0.002 ):\n",
        "  '''\n",
        "  Regla optimización que actualiza w\n",
        "  Params\n",
        "      e-> error de la iteracion previa\n",
        "      X -> input\n",
        "      w-> peso de la iteracion pervia\n",
        "      lr-> learning rate\n",
        "  resultado\n",
        "      wt-> la nueva version de w\n",
        "\n",
        "  '''\n",
        "  for x in X:\n",
        "    w = w+lr*e*x\n",
        "  return w"
      ],
      "metadata": {
        "id": "24xFdGawlGRT"
      },
      "execution_count": null,
      "outputs": []
    },
    {
      "cell_type": "code",
      "source": [
        "class Neuron:\n",
        "\n",
        "  def __init__(self,):\n",
        "    self.w = random.uniform(-1,1)\n",
        "    self.b = random.uniform(-1,1)\n",
        "\n",
        "  def compile(self,**kargs):\n",
        "    '''\n",
        "    Setea perdida, optimizacion ...\n",
        "    Params\n",
        "      loss -> funcion de perdida para evaluar el error\n",
        "      optimization -> funcion para actualizar el valor de pesos\n",
        "      lr -> learning rate\n",
        "\n",
        "    '''\n",
        "    self.loss = kargs.get(\"loss\")\n",
        "    self.optimization = kargs.get(\"optimization\")\n",
        "    self.lr = kargs.get(\"lr\")\n",
        "\n",
        "  def fit(self,**kargs):\n",
        "    '''\n",
        "    Hiperparametros del modelo\n",
        "    Params\n",
        "      x->input data\n",
        "      y->output data\n",
        "      epochs->iterations\n",
        "    '''\n",
        "\n",
        "    self.x = kargs.get(\"x\")\n",
        "    self.y = kargs.get(\"y\")\n",
        "    self.epochs = kargs.get(\"epochs\")\n",
        "\n",
        "  def train(self):\n",
        "    '''\n",
        "    Entrena los pesos\n",
        "    Param\n",
        "      None\n",
        "    return\n",
        "      historic -> diccionario con error y perdid\n",
        "    '''\n",
        "    historic={\"error\":[],\n",
        "              \"peso\":[],\n",
        "              \"accuracy\":[]\n",
        "              }\n",
        "\n",
        "    for i in range(self.epochs):\n",
        "      e = self.loss(self.y,self.x, self.predict)\n",
        "      self.w = self.optimization(e,self.x,self.w,self.lr)\n",
        "      historic[\"error\"].append(e)\n",
        "      historic[\"peso\"].append(self.w)\n",
        "      historic[\"accuracy\"].append(1-(e/sum(self.y)))\n",
        "    return historic\n",
        "\n",
        "  def predict(self,input):\n",
        "    return input*self.w"
      ],
      "metadata": {
        "id": "nAZ7s0ksM-QX"
      },
      "execution_count": null,
      "outputs": []
    },
    {
      "cell_type": "code",
      "source": [
        "inputs = [1,2,3,4,5]\n",
        "outputs = [-2,-4,-6,-8,-10]\n",
        "\n",
        "neuron = Neuron()\n",
        "neuron.compile(loss=loss,optimization=delta_rule,lr=0.0022)\n",
        "neuron.fit(x=inputs,y=outputs,epochs = 100)\n",
        "hist = neuron.train()\n",
        "for e,p,a in zip(hist['error'],hist['peso'],hist['accuracy']):\n",
        "  print('Error: ',e,' Peso: ',p, 'Accuracy: ',a)\n"
      ],
      "metadata": {
        "id": "P2LkV1Owmtxr",
        "colab": {
          "base_uri": "https://localhost:8080/"
        },
        "outputId": "81409960-8550-4f83-9bd1-ee812e310e95"
      },
      "execution_count": null,
      "outputs": [
        {
          "output_type": "stream",
          "name": "stdout",
          "text": [
            "Error:  -7.39097752615379  Peso:  0.2197569170215216 Accuracy:  0.7536340824615403\n",
            "Error:  -6.6592707510645655  Peso:  9.822363909173237e-07 Accuracy:  0.7780243082978479\n",
            "Error:  -6.000002946709172  Peso:  -0.19799911500501177 Accuracy:  0.7999999017763609\n",
            "Error:  -5.406002654984965  Peso:  -0.37639720261951565 Accuracy:  0.8197999115005011\n",
            "Error:  -4.870808392141454  Peso:  -0.5371338795601837 Accuracy:  0.8376397202619515\n",
            "Error:  -4.388598361319449  Peso:  -0.6819576254837255 Accuracy:  0.8537133879560184\n",
            "Error:  -3.954127123548824  Peso:  -0.8124438205608367 Accuracy:  0.8681957625483725\n",
            "Error:  -3.56266853831749  Peso:  -0.9300118823253138 Accuracy:  0.8812443820560837\n",
            "Error:  -3.2099643530240582  Peso:  -1.0359407059751078 Accuracy:  0.8930011882325314\n",
            "Error:  -2.8921778820746766  Peso:  -1.1313825760835723 Accuracy:  0.9035940705975107\n",
            "Error:  -2.605852271749283  Peso:  -1.2173757010512987 Accuracy:  0.9131382576083572\n",
            "Error:  -2.3478728968461042  Peso:  -1.29485550664722 Accuracy:  0.9217375701051298\n",
            "Error:  -2.11543348005834  Peso:  -1.3646648114891453 Accuracy:  0.9294855506647219\n",
            "Error:  -1.906005565532564  Peso:  -1.42756299515172 Accuracy:  0.9364664811489145\n",
            "Error:  -1.7173110145448405  Peso:  -1.4842342586316994 Accuracy:  0.942756299515172\n",
            "Error:  -1.5472972241049017  Peso:  -1.5352950670271615 Accuracy:  0.94842342586317\n",
            "Error:  -1.3941147989185156  Peso:  -1.5813008553914722 Accuracy:  0.9535295067027162\n",
            "Error:  -1.2560974338255833  Peso:  -1.6227520707077163 Accuracy:  0.9581300855391472\n",
            "Error:  -1.1317437878768513  Peso:  -1.6600996157076524 Accuracy:  0.9622752070707716\n",
            "Error:  -1.019701152877043  Peso:  -1.693749753752595 Accuracy:  0.9660099615707652\n",
            "Error:  -0.9187507387422151  Peso:  -1.7240685281310881 Accuracy:  0.9693749753752595\n",
            "Error:  -0.8277944156067356  Peso:  -1.7513857438461107 Accuracy:  0.9724068528131088\n",
            "Error:  -0.7458427684616682  Peso:  -1.7759985552053454 Accuracy:  0.975138574384611\n",
            "Error:  -0.6720043343839637  Peso:  -1.7981746982400164 Accuracy:  0.9775998555205345\n",
            "Error:  -0.6054759052799508  Peso:  -1.8181554031142548 Accuracy:  0.9798174698240016\n",
            "Error:  -0.5455337906572357  Peso:  -1.8361580182059436 Accuracy:  0.9818155403114255\n",
            "Error:  -0.49152594538216937  Peso:  -1.8523783744035551 Accuracy:  0.9836158018205944\n",
            "Error:  -0.4428648767893346  Peso:  -1.8669929153376033 Accuracy:  0.9852378374403555\n",
            "Error:  -0.39902125398719024  Peso:  -1.8801606167191804 Accuracy:  0.9866992915337603\n",
            "Error:  -0.35951814984245883  Peso:  -1.8920247156639818 Accuracy:  0.988016061671918\n",
            "Error:  -0.32392585300805465  Peso:  -1.9027142688132475 Accuracy:  0.9892024715663982\n",
            "Error:  -0.29185719356025763  Peso:  -1.9123455562007359 Accuracy:  0.9902714268813247\n",
            "Error:  -0.2629633313977924  Peso:  -1.9210233461368629 Accuracy:  0.9912345556200736\n",
            "Error:  -0.23692996158941154  Peso:  -1.9288420348693134 Accuracy:  0.9921023346136862\n",
            "Error:  -0.21347389539205985  Peso:  -1.9358866734172513 Accuracy:  0.9928842034869313\n",
            "Error:  -0.19233997974824613  Peso:  -1.9422338927489433 Accuracy:  0.9935886673417251\n",
            "Error:  -0.1732983217531699  Peso:  -1.947952737366798 Accuracy:  0.9942233892748943\n",
            "Error:  -0.15614178789960592  Peso:  -1.953105416367485 Accuracy:  0.9947952737366798\n",
            "Error:  -0.1406837508975451  Peso:  -1.957747980147104 Accuracy:  0.9953105416367485\n",
            "Error:  -0.12675605955868802  Peso:  -1.9619309301125407 Accuracy:  0.9957747980147104\n",
            "Error:  -0.11420720966237767  Peso:  -1.9656997680313992 Accuracy:  0.996193093011254\n",
            "Error:  -0.10290069590580231  Peso:  -1.9690954909962908 Accuracy:  0.99656997680314\n",
            "Error:  -0.09271352701112767  Peso:  -1.9721550373876582 Accuracy:  0.996909549099629\n",
            "Error:  -0.08353488783702545  Peso:  -1.97491168868628 Accuracy:  0.9972155037387658\n",
            "Error:  -0.07526493394115974  Peso:  -1.9773954315063382 Accuracy:  0.997491168868628\n",
            "Error:  -0.06781370548098531  Peso:  -1.979633283787211 Accuracy:  0.9977395431506338\n",
            "Error:  -0.06110014863836688  Peso:  -1.981649588692277 Accuracy:  0.9979633283787211\n",
            "Error:  -0.05505123392316924  Peso:  -1.9834662794117417 Accuracy:  0.9981649588692277\n",
            "Error:  -0.049601161764774915  Peso:  -1.9851031177499792 Accuracy:  0.9983466279411741\n",
            "Error:  -0.04469064675006251  Peso:  -1.9865779090927311 Accuracy:  0.9985103117749979\n",
            "Error:  -0.040266272721806606  Peso:  -1.9879066960925507 Accuracy:  0.9986577909092731\n",
            "Error:  -0.03627991172234801  Peso:  -1.989103933179388 Accuracy:  0.9987906696092551\n",
            "Error:  -0.03268820046183585  Peso:  -1.9901826437946288 Accuracy:  0.9989103933179388\n",
            "Error:  -0.02945206861611367  Peso:  -1.9911545620589606 Accuracy:  0.9990182643794628\n",
            "Error:  -0.026536313823118274  Peso:  -1.9920302604151234 Accuracy:  0.999115456205896\n",
            "Error:  -0.023909218754629702  Peso:  -1.9928192646340264 Accuracy:  0.9992030260415123\n",
            "Error:  -0.021542206097920902  Peso:  -1.9935301574352577 Accuracy:  0.9992819264634026\n",
            "Error:  -0.019409527694226592  Peso:  -1.9941706718491674 Accuracy:  0.9993530157435258\n",
            "Error:  -0.017487984452497773  Peso:  -1.9947477753360998 Accuracy:  0.9994170671849167\n",
            "Error:  -0.015756673991700377  Peso:  -1.995267745577826 Accuracy:  0.99947477753361\n",
            "Error:  -0.014196763266521861  Peso:  -1.9957362387656212 Accuracy:  0.9995267745577826\n",
            "Error:  -0.01279128370313649  Peso:  -1.996158351127825 Accuracy:  0.9995736238765621\n",
            "Error:  -0.011524946616525256  Peso:  -1.9965386743661702 Accuracy:  0.9996158351127825\n",
            "Error:  -0.010383976901489334  Peso:  -1.9968813456039194 Accuracy:  0.999653867436617\n",
            "Error:  -0.009355963188241834  Peso:  -1.9971900923891315 Accuracy:  0.999688134560392\n",
            "Error:  -0.008429722832605568  Peso:  -1.9974682732426072 Accuracy:  0.9997190092389131\n",
            "Error:  -0.007595180272178315  Peso:  -1.9977189141915894 Accuracy:  0.9997468273242607\n",
            "Error:  -0.00684325742523173  Peso:  -1.997944741686622 Accuracy:  0.9997718914191589\n",
            "Error:  -0.006165774940133639  Peso:  -1.9981482122596463 Accuracy:  0.9997944741686622\n",
            "Error:  -0.005555363221060983  Peso:  -1.9983315392459413 Accuracy:  0.9998148212259647\n",
            "Error:  -0.005005382262176061  Peso:  -1.9984967168605932 Accuracy:  0.9998331539245942\n",
            "Error:  -0.004509849418220702  Peso:  -1.9986455418913944 Accuracy:  0.9998496716860593\n",
            "Error:  -0.004063374325816715  Peso:  -1.9987796332441463 Accuracy:  0.9998645541891394\n",
            "Error:  -0.003661100267561057  Peso:  -1.9989004495529759 Accuracy:  0.9998779633244146\n",
            "Error:  -0.003298651341072434  Peso:  -1.999009305047231 Accuracy:  0.9998900449552975\n",
            "Error:  -0.0029720848583068005  Peso:  -1.9991073838475553 Accuracy:  0.9999009305047231\n",
            "Error:  -0.002677848457334031  Peso:  -1.9991957528466473 Accuracy:  0.9999107383847555\n",
            "Error:  -0.0024127414600582766  Peso:  -1.9992753733148292 Accuracy:  0.9999195752846647\n",
            "Error:  -0.002173880055512445  Peso:  -1.9993471113566608 Accuracy:  0.9999275373314829\n",
            "Error:  -0.001958665930017878  Peso:  -1.9994117473323514 Accuracy:  0.9999347111356661\n",
            "Error:  -0.0017647580029458432  Peso:  -1.9994699843464485 Accuracy:  0.9999411747332352\n",
            "Error:  -0.0015900469606544565  Peso:  -1.9995224558961504 Accuracy:  0.9999469984346449\n",
            "Error:  -0.001432632311548776  Peso:  -1.9995697327624316 Accuracy:  0.999952245589615\n",
            "Error:  -0.0012908017127051697  Peso:  -1.9996123292189507 Accuracy:  0.9999569732762431\n",
            "Error:  -0.0011630123431476847  Peso:  -1.9996507086262743 Accuracy:  0.9999612329218951\n",
            "Error:  -0.001047874121177239  Peso:  -1.9996852884722731 Accuracy:  0.9999650708626274\n",
            "Error:  -0.0009441345831806558  Peso:  -1.999716444913518 Accuracy:  0.9999685288472273\n",
            "Error:  -0.0008506652594457709  Peso:  -1.9997445168670798 Accuracy:  0.9999716444913518\n",
            "Error:  -0.0007664493987606935  Peso:  -1.999769809697239 Accuracy:  0.999974451686708\n",
            "Error:  -0.0006905709082831724  Peso:  -1.999792598537212 Accuracy:  0.9999769809697239\n",
            "Error:  -0.0006222043883639117  Peso:  -1.9998131312820278 Accuracy:  0.9999792598537212\n",
            "Error:  -0.0005606061539167317  Peso:  -1.9998316312851072 Accuracy:  0.9999813131282028\n",
            "Error:  -0.0005051061446781802  Peso:  -1.999848299787882 Accuracy:  0.9999831631285108\n",
            "Error:  -0.0004551006363540555  Peso:  -1.9998633181088816 Accuracy:  0.9999848299787882\n",
            "Error:  -0.00041004567335511943  Peso:  -1.9998768496161023 Accuracy:  0.9999863318108881\n",
            "Error:  -0.0003694511516929566  Peso:  -1.9998890415041082 Accuracy:  0.9999876849616103\n",
            "Error:  -0.0003328754876754658  Peso:  -1.9999000263952016 Accuracy:  0.9999889041504109\n",
            "Error:  -0.000299920814395227  Peso:  -1.9999099237820763 Accuracy:  0.9999900026395202\n",
            "Error:  -0.00027022865377084314  Peso:  -1.9999188413276507 Accuracy:  0.9999909923782077\n",
            "Error:  -0.00024347601704777233  Peso:  -1.9999268760362132 Accuracy:  0.9999918841327651\n"
          ]
        }
      ]
    },
    {
      "cell_type": "code",
      "source": [
        "neuron.predict(300)"
      ],
      "metadata": {
        "colab": {
          "base_uri": "https://localhost:8080/"
        },
        "id": "YZ5JKxxsGcfd",
        "outputId": "1813e114-cce4-45bc-971a-7af56b6df55c"
      },
      "execution_count": null,
      "outputs": [
        {
          "output_type": "execute_result",
          "data": {
            "text/plain": [
              "-599.978062810864"
            ]
          },
          "metadata": {},
          "execution_count": 6
        }
      ]
    },
    {
      "cell_type": "code",
      "source": [
        "import pandas as pd\n",
        "import matplotlib.pyplot as plt\n"
      ],
      "metadata": {
        "id": "Xug9phgjGACW"
      },
      "execution_count": null,
      "outputs": []
    },
    {
      "cell_type": "code",
      "source": [
        "plt.plot(hist['error'])\n",
        "plt.plot(hist['peso'])\n",
        "plt.plot(hist['accuracy'],'--g')\n",
        "\n",
        "plt.legend(hist.keys())\n",
        "\n",
        "plt.show()"
      ],
      "metadata": {
        "colab": {
          "base_uri": "https://localhost:8080/",
          "height": 265
        },
        "id": "FySUcwFSqfhf",
        "outputId": "5cce7abe-043e-4a70-a313-fefedb0f9b21"
      },
      "execution_count": null,
      "outputs": [
        {
          "output_type": "display_data",
          "data": {
            "text/plain": [
              "<Figure size 432x288 with 1 Axes>"
            ],
            "image/png": "[encoded data removed]"
          },
          "metadata": {
            "needs_background": "light"
          }
        }
      ]
    }
  ]
}